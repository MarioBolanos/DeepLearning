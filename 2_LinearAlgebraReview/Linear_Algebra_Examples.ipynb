{
  "nbformat": 4,
  "nbformat_minor": 0,
  "metadata": {
    "colab": {
      "name": "Optimization in Electrical Engineering_Cap2.ipynb",
      "provenance": [],
      "collapsed_sections": [],
      "toc_visible": true,
      "include_colab_link": true
    },
    "kernelspec": {
      "name": "python3",
      "display_name": "Python 3"
    }
  },
  "cells": [
    {
      "cell_type": "markdown",
      "metadata": {
        "id": "view-in-github",
        "colab_type": "text"
      },
      "source": [
        "<a href=\"https://colab.research.google.com/github/MarioBolanos/DeepLearning/blob/main/2_LinearAlgebraReview/Linear_Algebra_Examples.ipynb\" target=\"_parent\"><img src=\"https://colab.research.google.com/assets/colab-badge.svg\" alt=\"Open In Colab\"/></a>"
      ]
    },
    {
      "cell_type": "markdown",
      "metadata": {
        "id": "zys3K4fWFjg6"
      },
      "source": [
        "#Linear Algebra Review\n"
      ]
    },
    {
      "cell_type": "code",
      "metadata": {
        "id": "YDepCho_Hwb4"
      },
      "source": [
        "import numpy as np\n",
        "import sympy as sp\n",
        "import matplotlib.pyplot as plt"
      ],
      "execution_count": 1,
      "outputs": []
    },
    {
      "cell_type": "markdown",
      "metadata": {
        "id": "YODOOAEaFoDM"
      },
      "source": [
        "## Vector Space"
      ]
    },
    {
      "cell_type": "code",
      "metadata": {
        "colab": {
          "base_uri": "https://localhost:8080/"
        },
        "id": "TaBz-ZU0HE9C",
        "outputId": "5785d39a-3630-4072-ce74-cebe9ee6746e"
      },
      "source": [
        " data = np.array([[1, 2], [3, 4], [5, 6]])\n",
        " type(data)"
      ],
      "execution_count": null,
      "outputs": [
        {
          "output_type": "execute_result",
          "data": {
            "text/plain": [
              "numpy.ndarray"
            ]
          },
          "metadata": {
            "tags": []
          },
          "execution_count": 71
        }
      ]
    },
    {
      "cell_type": "code",
      "metadata": {
        "colab": {
          "base_uri": "https://localhost:8080/"
        },
        "id": "7OlIiuhPIL-7",
        "outputId": "0938f255-8f3d-40ff-f5e6-9f3ee0c5c87f"
      },
      "source": [
        "print(data)\n",
        "T1=np.transpose(data)\n",
        "T2=data.T\n",
        "print(T1)\n",
        "print(T2)"
      ],
      "execution_count": null,
      "outputs": [
        {
          "output_type": "stream",
          "text": [
            "[[1 2]\n",
            " [3 4]\n",
            " [5 6]]\n",
            "[[1 3 5]\n",
            " [2 4 6]]\n",
            "[[1 3 5]\n",
            " [2 4 6]]\n"
          ],
          "name": "stdout"
        }
      ]
    },
    {
      "cell_type": "code",
      "metadata": {
        "id": "eWlZwOA6ITQ0",
        "colab": {
          "base_uri": "https://localhost:8080/"
        },
        "outputId": "0145a3be-d3ef-473f-9e00-b53c75107028"
      },
      "source": [
        "data.ndim\n",
        "data.shape\n",
        "data.size\n",
        "data.dtype\n",
        "data.nbytes"
      ],
      "execution_count": null,
      "outputs": [
        {
          "output_type": "execute_result",
          "data": {
            "text/plain": [
              "48"
            ]
          },
          "metadata": {
            "tags": []
          },
          "execution_count": 72
        }
      ]
    },
    {
      "cell_type": "code",
      "metadata": {
        "id": "s75bHOCMLs5O",
        "colab": {
          "base_uri": "https://localhost:8080/"
        },
        "outputId": "0cda82a5-6bac-4cf6-f24d-c098b823d502"
      },
      "source": [
        "a1 =np.array([[1],[2],[0]]) \n",
        "a2 =np.array([[0],[5],[6]]) \n",
        "a3 = 2*a1 + a2\n",
        "a3"
      ],
      "execution_count": null,
      "outputs": [
        {
          "output_type": "execute_result",
          "data": {
            "text/plain": [
              "array([[2],\n",
              "       [9],\n",
              "       [6]])"
            ]
          },
          "metadata": {
            "tags": []
          },
          "execution_count": 73
        }
      ]
    },
    {
      "cell_type": "markdown",
      "metadata": {
        "id": "VxuJQgZJFv1E"
      },
      "source": [
        "##Matrix"
      ]
    },
    {
      "cell_type": "code",
      "metadata": {
        "colab": {
          "base_uri": "https://localhost:8080/"
        },
        "id": "1OBScAIFQ68L",
        "outputId": "3bd09309-8076-47d1-d0ca-bc3a1bd10af3"
      },
      "source": [
        "A = sp.Matrix([[4,-2,0], [2, 1, -1], [2, -3, 1]])\n",
        "Anull=A.nullspace() \n",
        "Anull"
      ],
      "execution_count": null,
      "outputs": [
        {
          "output_type": "execute_result",
          "data": {
            "text/plain": [
              "[Matrix([\n",
              " [1/4],\n",
              " [1/2],\n",
              " [  1]])]"
            ]
          },
          "metadata": {
            "tags": []
          },
          "execution_count": 6
        }
      ]
    },
    {
      "cell_type": "markdown",
      "metadata": {
        "id": "JAO1ruCjT-EM"
      },
      "source": [
        "###Rank"
      ]
    },
    {
      "cell_type": "code",
      "metadata": {
        "colab": {
          "base_uri": "https://localhost:8080/"
        },
        "id": "DhS1MULdUACE",
        "outputId": "7f78bac1-85eb-4d90-80b8-1b1fdec7cbde"
      },
      "source": [
        "A = sp.Matrix([[3, 0, 2, 2], [-6, 42, 24, 54], [21, -21, 0, -15]])\n",
        "A.rank()"
      ],
      "execution_count": null,
      "outputs": [
        {
          "output_type": "execute_result",
          "data": {
            "text/plain": [
              "2"
            ]
          },
          "metadata": {
            "tags": []
          },
          "execution_count": 74
        }
      ]
    },
    {
      "cell_type": "markdown",
      "metadata": {
        "id": "htz79ROlVaoT"
      },
      "source": [
        "###Determinant"
      ]
    },
    {
      "cell_type": "code",
      "metadata": {
        "colab": {
          "base_uri": "https://localhost:8080/",
          "height": 37
        },
        "id": "DgVQ5RFjVfgi",
        "outputId": "e0073922-c06d-4ff6-fad1-2357a3ef3971"
      },
      "source": [
        "A = sp.Matrix([[5, 4, 3] , [0, -1, 7], [0, 0, 2]])\n",
        "A.det()\n"
      ],
      "execution_count": null,
      "outputs": [
        {
          "output_type": "execute_result",
          "data": {
            "text/latex": "$\\displaystyle -10$",
            "text/plain": [
              "-10"
            ]
          },
          "metadata": {
            "tags": []
          },
          "execution_count": 75
        }
      ]
    },
    {
      "cell_type": "code",
      "metadata": {
        "colab": {
          "base_uri": "https://localhost:8080/"
        },
        "id": "RDD_dv8YSpIt",
        "outputId": "15f9994b-1221-4e92-85a9-0bed2d733ee0"
      },
      "source": [
        "M = sp.Matrix([[1, 0, 1, 3], [2, 3, 4, 7], [-1, -3, -3, -4]]) \n",
        "print(\"Matrix : {} \".format(M)) \n",
        "   \n",
        "# Use sympy.nullspace() method  \n",
        "M_nullspace = M.nullspace()   \n",
        "      \n",
        "print(\"Nullspace of a matrix : {}\".format(M_nullspace)) "
      ],
      "execution_count": null,
      "outputs": [
        {
          "output_type": "stream",
          "text": [
            "Matrix : Matrix([[1, 0, 1, 3], [2, 3, 4, 7], [-1, -3, -3, -4]]) \n",
            "Nullspace of a matrix : [Matrix([\n",
            "[  -1],\n",
            "[-2/3],\n",
            "[   1],\n",
            "[   0]]), Matrix([\n",
            "[  -3],\n",
            "[-1/3],\n",
            "[   0],\n",
            "[   1]])]\n"
          ],
          "name": "stdout"
        }
      ]
    },
    {
      "cell_type": "markdown",
      "metadata": {
        "id": "kFtk90YlFyzb"
      },
      "source": [
        "##Linear Equations\n",
        "\n"
      ]
    },
    {
      "cell_type": "markdown",
      "metadata": {
        "id": "SjOY-J0xyEp2"
      },
      "source": [
        "Least squares is a standard approach to problems with more equations than unknowns, also known as overdetermined systems.\n",
        "\n",
        "Consider the four equations:\n",
        "$$\n",
        "x1 -  x2 + x3 = 0\\\\\n",
        "-x1 + x2 - x3 = 0\\\\\n",
        "10x2 + 25x3 = 90\\\\\n",
        "20x1 + 10x2 = 80\\\\\n",
        "$$\n",
        "We can express this as a matrix multiplication $A * x = b:$"
      ]
    },
    {
      "cell_type": "code",
      "metadata": {
        "id": "Z0av6C5oVyRa"
      },
      "source": [
        "A = np.array([[1, -1, 1], \n",
        "               [-1, 1, -1], \n",
        "               [0, 10, 25], \n",
        "               [20, 10, 0]])\n",
        "b = np.array([[0], \n",
        "               [0], \n",
        "               [90], \n",
        "               [80]],)"
      ],
      "execution_count": null,
      "outputs": []
    },
    {
      "cell_type": "markdown",
      "metadata": {
        "id": "hPoaRJINV5ev"
      },
      "source": [
        "Then solve with :**np.linalg.lstsq**"
      ]
    },
    {
      "cell_type": "code",
      "metadata": {
        "id": "Fkv55avwgyFc",
        "colab": {
          "base_uri": "https://localhost:8080/"
        },
        "outputId": "77f6a0ab-1687-44af-9eac-76cf1895dc87"
      },
      "source": [
        "x, residuals, rank, s = np.linalg.lstsq(A,b)"
      ],
      "execution_count": null,
      "outputs": [
        {
          "output_type": "stream",
          "text": [
            "/usr/local/lib/python3.7/dist-packages/ipykernel_launcher.py:1: FutureWarning: `rcond` parameter will change to the default of machine precision times ``max(M, N)`` where M and N are the input matrix dimensions.\n",
            "To use the future default and silence this warning we advise to pass `rcond=None`, to keep using the old, explicitly pass `rcond=-1`.\n",
            "  \"\"\"Entry point for launching an IPython kernel.\n"
          ],
          "name": "stderr"
        }
      ]
    },
    {
      "cell_type": "markdown",
      "metadata": {
        "id": "NynVlDnoYY5_"
      },
      "source": [
        "**x** is the solution, **residuals** the sum, **rank** the matrix rank of input A, and **s** the singular values of A. If b has more than one dimension, lstsq will solve the system corresponding to each column of b:"
      ]
    },
    {
      "cell_type": "code",
      "metadata": {
        "colab": {
          "base_uri": "https://localhost:8080/"
        },
        "id": "ZByVjd_eWXbi",
        "outputId": "06ad48ca-e5b3-4dc8-a185-5d296774792a"
      },
      "source": [
        "print(x)"
      ],
      "execution_count": null,
      "outputs": [
        {
          "output_type": "stream",
          "text": [
            "[[2.]\n",
            " [4.]\n",
            " [2.]]\n"
          ],
          "name": "stdout"
        }
      ]
    },
    {
      "cell_type": "markdown",
      "metadata": {
        "id": "TG4j6yOJx49O"
      },
      "source": [
        "Ejemplos 2:"
      ]
    },
    {
      "cell_type": "code",
      "metadata": {
        "colab": {
          "base_uri": "https://localhost:8080/"
        },
        "id": "a31Uun8NxfZ_",
        "outputId": "ed8c1cb4-87df-4895-cc9c-1bf30323ff03"
      },
      "source": [
        "A = np.array([[4, 3, 2], \n",
        "              [-2, 2, 3], \n",
        "              [3, -5, 2]])\n",
        "B = np.array([25, -10, -4])\n",
        "X2 = np.linalg.solve(A,B)\n",
        "\n",
        "print(X2)"
      ],
      "execution_count": null,
      "outputs": [
        {
          "output_type": "stream",
          "text": [
            "[ 5.  3. -2.]\n"
          ],
          "name": "stdout"
        }
      ]
    },
    {
      "cell_type": "markdown",
      "metadata": {
        "id": "ijUDwZJtF2n1"
      },
      "source": [
        "##Inverse"
      ]
    },
    {
      "cell_type": "code",
      "metadata": {
        "id": "lEjM7zdUGJMK",
        "colab": {
          "base_uri": "https://localhost:8080/"
        },
        "outputId": "029206f6-686d-40f6-c48e-0ae42829be1b"
      },
      "source": [
        "A = np.matrix([[5,4,3],[0,-1,7],[0,0,2]])\n",
        "A.I"
      ],
      "execution_count": null,
      "outputs": [
        {
          "output_type": "execute_result",
          "data": {
            "text/plain": [
              "matrix([[ 0.2,  0.8, -3.1],\n",
              "        [-0. , -1. ,  3.5],\n",
              "        [ 0. ,  0. ,  0.5]])"
            ]
          },
          "metadata": {
            "tags": []
          },
          "execution_count": 14
        }
      ]
    },
    {
      "cell_type": "code",
      "metadata": {
        "colab": {
          "base_uri": "https://localhost:8080/"
        },
        "id": "vg3xCTh8tLRT",
        "outputId": "e8fd83a6-f061-4e93-90bf-ad17bf7b5d09"
      },
      "source": [
        "A = np.array([[5,4,3],[0,-1,7],[0,0,2]])\n",
        "np.linalg.inv(A)"
      ],
      "execution_count": null,
      "outputs": [
        {
          "output_type": "execute_result",
          "data": {
            "text/plain": [
              "array([[ 0.2,  0.8, -3.1],\n",
              "       [-0. , -1. ,  3.5],\n",
              "       [ 0. ,  0. ,  0.5]])"
            ]
          },
          "metadata": {
            "tags": []
          },
          "execution_count": 15
        }
      ]
    },
    {
      "cell_type": "markdown",
      "metadata": {
        "id": "qzfYbRotF7Rz"
      },
      "source": [
        "##Inner Product"
      ]
    },
    {
      "cell_type": "code",
      "metadata": {
        "id": "8cfodwD1I5iX",
        "colab": {
          "base_uri": "https://localhost:8080/"
        },
        "outputId": "ea799e0d-1274-4749-a342-b2ee1b925339"
      },
      "source": [
        "a=np.array([1,5,7])\n",
        "b=np.array([3,4,1])\n",
        "np.inner(a, b) "
      ],
      "execution_count": null,
      "outputs": [
        {
          "output_type": "execute_result",
          "data": {
            "text/plain": [
              "30"
            ]
          },
          "metadata": {
            "tags": []
          },
          "execution_count": 16
        }
      ]
    },
    {
      "cell_type": "markdown",
      "metadata": {
        "id": "RvtCa_ghGAX6"
      },
      "source": [
        "##Norm"
      ]
    },
    {
      "cell_type": "code",
      "metadata": {
        "id": "NF5C31-6MdlG",
        "colab": {
          "base_uri": "https://localhost:8080/"
        },
        "outputId": "51331f2b-fa85-4232-9d75-f428f0223cbb"
      },
      "source": [
        "A = np.matrix([[1,2,3],[3,5,6],[7,8,9]])\n",
        "np.linalg.norm(A)"
      ],
      "execution_count": null,
      "outputs": [
        {
          "output_type": "execute_result",
          "data": {
            "text/plain": [
              "16.673332000533065"
            ]
          },
          "metadata": {
            "tags": []
          },
          "execution_count": 77
        }
      ]
    },
    {
      "cell_type": "markdown",
      "metadata": {
        "id": "mh_D5eDuGBlO"
      },
      "source": [
        "##Eigenvalues and Eigenvectors"
      ]
    },
    {
      "cell_type": "code",
      "metadata": {
        "id": "PW3sGrdOMu4N"
      },
      "source": [
        "A = np.array([[-5,2], [2,-2]])\n",
        "evals, evecs = np.linalg.eig(A)"
      ],
      "execution_count": null,
      "outputs": []
    },
    {
      "cell_type": "code",
      "metadata": {
        "colab": {
          "base_uri": "https://localhost:8080/"
        },
        "id": "A9_HI5EtehmD",
        "outputId": "31d8d66b-8d16-49b6-ae05-83ecad668626"
      },
      "source": [
        "evals"
      ],
      "execution_count": null,
      "outputs": [
        {
          "output_type": "execute_result",
          "data": {
            "text/plain": [
              "array([-6., -1.])"
            ]
          },
          "metadata": {
            "tags": []
          },
          "execution_count": 79
        }
      ]
    },
    {
      "cell_type": "code",
      "metadata": {
        "colab": {
          "base_uri": "https://localhost:8080/"
        },
        "id": "3XI4TH1hekDK",
        "outputId": "46bed57d-3f59-46b3-e13f-0d6dfe874545"
      },
      "source": [
        "evecs"
      ],
      "execution_count": null,
      "outputs": [
        {
          "output_type": "execute_result",
          "data": {
            "text/plain": [
              "array([[-0.89442719, -0.4472136 ],\n",
              "       [ 0.4472136 , -0.89442719]])"
            ]
          },
          "metadata": {
            "tags": []
          },
          "execution_count": 80
        }
      ]
    },
    {
      "cell_type": "markdown",
      "metadata": {
        "id": "iEj6ZlnSGHNs"
      },
      "source": [
        "##Matrix Diagonalization"
      ]
    },
    {
      "cell_type": "code",
      "metadata": {
        "colab": {
          "base_uri": "https://localhost:8080/"
        },
        "id": "_X0uyjSkjhgU",
        "outputId": "0ac49150-6ad4-4374-9a0e-5ad0f180be21"
      },
      "source": [
        "A = np.array([[2,6],[0,-1]])\n",
        "A"
      ],
      "execution_count": null,
      "outputs": [
        {
          "output_type": "execute_result",
          "data": {
            "text/plain": [
              "array([[ 2,  6],\n",
              "       [ 0, -1]])"
            ]
          },
          "metadata": {
            "tags": []
          },
          "execution_count": 81
        }
      ]
    },
    {
      "cell_type": "code",
      "metadata": {
        "colab": {
          "base_uri": "https://localhost:8080/"
        },
        "id": "S6NuiGq7mchL",
        "outputId": "1a4f3c7c-6b77-4dbe-e144-f8d9cbca259e"
      },
      "source": [
        "evals, evecs = np.linalg.eig(A)\n",
        "evals"
      ],
      "execution_count": null,
      "outputs": [
        {
          "output_type": "execute_result",
          "data": {
            "text/plain": [
              "array([ 2., -1.])"
            ]
          },
          "metadata": {
            "tags": []
          },
          "execution_count": 22
        }
      ]
    },
    {
      "cell_type": "code",
      "metadata": {
        "colab": {
          "base_uri": "https://localhost:8080/"
        },
        "id": "Rw3_ZPwklBxU",
        "outputId": "43fb4566-3639-485f-9711-97f507d39d60"
      },
      "source": [
        "evecs"
      ],
      "execution_count": null,
      "outputs": [
        {
          "output_type": "execute_result",
          "data": {
            "text/plain": [
              "array([[ 1.        , -0.89442719],\n",
              "       [ 0.        ,  0.4472136 ]])"
            ]
          },
          "metadata": {
            "tags": []
          },
          "execution_count": 23
        }
      ]
    },
    {
      "cell_type": "code",
      "metadata": {
        "colab": {
          "base_uri": "https://localhost:8080/"
        },
        "id": "3Q_yizElmaZ0",
        "outputId": "1deb4194-a25c-47ca-f536-7875bdb71ad2"
      },
      "source": [
        "A=evecs@np.diag(evals)@np.linalg.inv(evecs)\n",
        "A "
      ],
      "execution_count": null,
      "outputs": [
        {
          "output_type": "execute_result",
          "data": {
            "text/plain": [
              "array([[ 2.,  6.],\n",
              "       [ 0., -1.]])"
            ]
          },
          "metadata": {
            "tags": []
          },
          "execution_count": 24
        }
      ]
    },
    {
      "cell_type": "markdown",
      "metadata": {
        "id": "sHkAnyEhGS5C"
      },
      "source": [
        "##Singular value descomposition "
      ]
    },
    {
      "cell_type": "markdown",
      "metadata": {
        "id": "c701vN01L5Xa"
      },
      "source": [
        "###Singular Value"
      ]
    },
    {
      "cell_type": "code",
      "metadata": {
        "colab": {
          "base_uri": "https://localhost:8080/"
        },
        "id": "lG5LjZV_MFZY",
        "outputId": "cba0bd3d-16c0-479c-9c3f-b7bf83053b33"
      },
      "source": [
        "A=np.matrix([[0,1],[1,1],[1,0]])\n",
        "ATA=A.T@A\n",
        "ATA"
      ],
      "execution_count": null,
      "outputs": [
        {
          "output_type": "execute_result",
          "data": {
            "text/plain": [
              "matrix([[2, 1],\n",
              "        [1, 2]])"
            ]
          },
          "metadata": {
            "tags": []
          },
          "execution_count": 25
        }
      ]
    },
    {
      "cell_type": "code",
      "metadata": {
        "colab": {
          "base_uri": "https://localhost:8080/"
        },
        "id": "6jsQZrRuNiCp",
        "outputId": "a6e40049-dfec-4c39-8b66-7f6ba03594e2"
      },
      "source": [
        "evals, evecs = np.linalg.eig(ATA)\n",
        "Singularvalues = np.sqrt(evals)\n",
        "Singularvalues"
      ],
      "execution_count": null,
      "outputs": [
        {
          "output_type": "execute_result",
          "data": {
            "text/plain": [
              "array([1.73205081, 1.        ])"
            ]
          },
          "metadata": {
            "tags": []
          },
          "execution_count": 26
        }
      ]
    },
    {
      "cell_type": "markdown",
      "metadata": {
        "id": "bkSzg-BhL92J"
      },
      "source": [
        "###Singular Value Decomposition"
      ]
    },
    {
      "cell_type": "code",
      "metadata": {
        "colab": {
          "base_uri": "https://localhost:8080/"
        },
        "id": "pgwLXnr6MGeR",
        "outputId": "caf2cf95-9881-41d3-d547-8de2a2ac88e0"
      },
      "source": [
        " [U, S, V] = np.linalg.svd(A)\n",
        " print(U)\n",
        " print(S)\n",
        " print(V)"
      ],
      "execution_count": null,
      "outputs": [
        {
          "output_type": "stream",
          "text": [
            "[[-4.08248290e-01  7.07106781e-01  5.77350269e-01]\n",
            " [-8.16496581e-01  7.45552182e-17 -5.77350269e-01]\n",
            " [-4.08248290e-01 -7.07106781e-01  5.77350269e-01]]\n",
            "[1.73205081 1.        ]\n",
            "[[-0.70710678 -0.70710678]\n",
            " [-0.70710678  0.70710678]]\n"
          ],
          "name": "stdout"
        }
      ]
    },
    {
      "cell_type": "markdown",
      "metadata": {
        "id": "mW5keLZvGVjy"
      },
      "source": [
        "##Quadratic Form"
      ]
    },
    {
      "cell_type": "code",
      "metadata": {
        "colab": {
          "base_uri": "https://localhost:8080/"
        },
        "id": "QhIcRzFSk_VE",
        "outputId": "d7ef6e0c-18f6-4b2b-ae72-e29a64f549f7"
      },
      "source": [
        "x1,x2 = sp.symbols(\"x1 x2\") #Crear variables simbólicas\n",
        "x = sp.Matrix([[x1],[x2]]) #Agruparlas en una matriz\n",
        "Q = sp.Matrix([[3,4],[6,1]]) \n",
        "print('x = %s'%x)\n",
        "print('Q = %s'%Q)"
      ],
      "execution_count": null,
      "outputs": [
        {
          "output_type": "stream",
          "text": [
            "x = Matrix([[x1], [x2]])\n",
            "Q = Matrix([[3, 4], [6, 1]])\n"
          ],
          "name": "stdout"
        }
      ]
    },
    {
      "cell_type": "code",
      "metadata": {
        "colab": {
          "base_uri": "https://localhost:8080/"
        },
        "id": "XU51M5uLlEiz",
        "outputId": "bd6d425c-a0e0-4b01-8585-196c0d95595e"
      },
      "source": [
        "QuadForm = x.T@Q@x #Cálculo forma cuadrática\n",
        "print('La forma cuadratica de Q es %s'%QuadForm)"
      ],
      "execution_count": null,
      "outputs": [
        {
          "output_type": "stream",
          "text": [
            "La forma cuadratica de Q es Matrix([[x1*(3*x1 + 6*x2) + x2*(4*x1 + x2)]])\n"
          ],
          "name": "stdout"
        }
      ]
    },
    {
      "cell_type": "markdown",
      "source": [
        "#Curves\n",
        "\n"
      ],
      "metadata": {
        "id": "XKkPG51jgV4B"
      }
    },
    {
      "cell_type": "code",
      "source": [
        "def f(x, y):\n",
        "    return x**2+y**2\n",
        "\n",
        "x = np.linspace(-6, 6, 30)\n",
        "y = np.linspace(-6, 6, 30)\n",
        "\n",
        "X, Y = np.meshgrid(x, y)\n",
        "Z = f(X, Y)"
      ],
      "metadata": {
        "id": "8yc4Gw8NgguA"
      },
      "execution_count": 2,
      "outputs": []
    },
    {
      "cell_type": "code",
      "source": [
        "fig = plt.figure()\n",
        "ax = plt.axes(projection='3d')\n",
        "ax.contour3D(X, Y, Z, 50)\n",
        "ax.set_xlabel('x')\n",
        "ax.set_ylabel('y')\n",
        "ax.set_zlabel('z');"
      ],
      "metadata": {
        "id": "j2iOUDJnglcJ",
        "outputId": "6a279449-8917-4a4d-8df6-414601719dc0",
        "colab": {
          "base_uri": "https://localhost:8080/",
          "height": 248
        }
      },
      "execution_count": 3,
      "outputs": [
        {
          "output_type": "display_data",
          "data": {
            "image/png": "[encoded data removed]",
            "text/plain": [
              "<Figure size 432x288 with 1 Axes>"
            ]
          },
          "metadata": {
            "needs_background": "light"
          }
        }
      ]
    },
    {
      "cell_type": "markdown",
      "metadata": {
        "id": "VLTKjDHqGhFT"
      },
      "source": [
        "##Gradient"
      ]
    },
    {
      "cell_type": "code",
      "metadata": {
        "colab": {
          "base_uri": "https://localhost:8080/",
          "height": 37
        },
        "id": "hysJ46ktlBoj",
        "outputId": "88a0e022-37c0-407b-a58e-9d64f1bcbe7b"
      },
      "source": [
        "x1,x2,x3 = sp.symbols(\"x1, x2, x3\") #Crear variables simbólicas\n",
        "x = np.array([x1,x2,x3])\n",
        "fx =  x1**2 + x3**2 + 2*x1*x2 + 2*x1*x3 + 2*x2*x3\n",
        "fx"
      ],
      "execution_count": null,
      "outputs": [
        {
          "output_type": "execute_result",
          "data": {
            "text/latex": "$\\displaystyle x_{1}^{2} + 2 x_{1} x_{2} + 2 x_{1} x_{3} + 2 x_{2} x_{3} + x_{3}^{2}$",
            "text/plain": [
              "x1**2 + 2*x1*x2 + 2*x1*x3 + 2*x2*x3 + x3**2"
            ]
          },
          "metadata": {
            "tags": []
          },
          "execution_count": 40
        }
      ]
    },
    {
      "cell_type": "code",
      "metadata": {
        "colab": {
          "base_uri": "https://localhost:8080/"
        },
        "id": "-IVu_QQBlHDd",
        "outputId": "0fd490b3-9c12-4560-cdda-2bcf7f813159"
      },
      "source": [
        "gradf = [fx.diff(x) for x in (x1, x2,x3)] #Gradiente de f(x)\n",
        "gradf"
      ],
      "execution_count": null,
      "outputs": [
        {
          "output_type": "execute_result",
          "data": {
            "text/plain": [
              "[2*x1 + 2*x2 + 2*x3, 2*x1 + 2*x3, 2*x1 + 2*x2 + 2*x3]"
            ]
          },
          "metadata": {
            "tags": []
          },
          "execution_count": 32
        }
      ]
    },
    {
      "cell_type": "markdown",
      "metadata": {
        "id": "3FoUuSApGlS8"
      },
      "source": [
        "##Hessian Matrix"
      ]
    },
    {
      "cell_type": "code",
      "metadata": {
        "colab": {
          "base_uri": "https://localhost:8080/"
        },
        "id": "dVvgOeL0lTve",
        "outputId": "a2cb926a-6e6b-4c46-e35a-79bfb49ab7c6"
      },
      "source": [
        "hessf = [[[fx.diff(x1_,x2_) for x1_ in (x1, x2,x3)] for x2_ in (x1, x2,x3)]] #Matriz hessiana de f(x)\n",
        "hessf"
      ],
      "execution_count": null,
      "outputs": [
        {
          "output_type": "execute_result",
          "data": {
            "text/plain": [
              "[[[2, 2, 2], [2, 0, 2], [2, 2, 2]]]"
            ]
          },
          "metadata": {
            "tags": []
          },
          "execution_count": 33
        }
      ]
    },
    {
      "cell_type": "markdown",
      "metadata": {
        "id": "bS-5RCa5Gu3_"
      },
      "source": [
        "##Level Set"
      ]
    },
    {
      "cell_type": "code",
      "metadata": {
        "id": "dzR4fI5TZONp"
      },
      "source": [
        "delta = 0.25 \n",
        "x=np.arange(-3,3,delta)\n",
        "x1,x2 = np.meshgrid(x,x ) \n",
        "f = x1**2 + x2**2 "
      ],
      "execution_count": null,
      "outputs": []
    },
    {
      "cell_type": "code",
      "metadata": {
        "colab": {
          "base_uri": "https://localhost:8080/",
          "height": 280
        },
        "id": "is-TIymvdiz4",
        "outputId": "c625e9b8-3078-49ed-eb81-c38b956265eb"
      },
      "source": [
        "c= plt.contour ( x1 , x2 , f ) \n",
        "plt.xlabel( 'x_1' ) \n",
        "plt.ylabel( 'x_2' )\n",
        "plt.clabel( c ) ;\n",
        "#plt.axis([5,19,5,19])"
      ],
      "execution_count": null,
      "outputs": [
        {
          "output_type": "display_data",
          "data": {
            "image/png": "[encoded data removed]",
            "text/plain": [
              "<Figure size 432x288 with 1 Axes>"
            ]
          },
          "metadata": {
            "tags": [],
            "needs_background": "light"
          }
        }
      ]
    },
    {
      "cell_type": "code",
      "metadata": {
        "id": "sWoky3JUZZ-6",
        "colab": {
          "base_uri": "https://localhost:8080/",
          "height": 298
        },
        "outputId": "d4156ad8-55c0-4c77-a952-27c273843045"
      },
      "source": [
        "delta = 0.25 ;\n",
        "x=np.arange(-3,3,delta)\n",
        "x1,x2 = np.meshgrid(x,x )\n",
        "f = x1**2 + x2**2 \n",
        "[fx1 ,fx2 ] = np.gradient( f , delta , delta ) ;\n",
        "plt.contour ( x1 , x2 , f ) \n",
        "plt.xlabel ( 'x_1' ) \n",
        "plt.ylabel ( 'x_2' )\n",
        "plt.quiver (x2,x1, fx1 , fx2 )\n",
        "fx1.shape"
      ],
      "execution_count": null,
      "outputs": [
        {
          "output_type": "execute_result",
          "data": {
            "text/plain": [
              "(24, 24)"
            ]
          },
          "metadata": {
            "tags": []
          },
          "execution_count": 36
        },
        {
          "output_type": "display_data",
          "data": {
            "image/png": "[encoded data removed]",
            "text/plain": [
              "<Figure size 432x288 with 1 Axes>"
            ]
          },
          "metadata": {
            "tags": [],
            "needs_background": "light"
          }
        }
      ]
    },
    {
      "cell_type": "markdown",
      "metadata": {
        "id": "BE6uK0wIGy_r"
      },
      "source": [
        "##Directional Derivative"
      ]
    },
    {
      "cell_type": "code",
      "metadata": {
        "colab": {
          "base_uri": "https://localhost:8080/",
          "height": 37
        },
        "id": "g6P89rAllXuz",
        "outputId": "34aceada-a30c-4956-d3d5-0b16227e83ea"
      },
      "source": [
        "x1,x2,x3 = sp.symbols(\"x1, x2, x3\")\n",
        "fx = x1*x2*x3\n",
        "fx"
      ],
      "execution_count": null,
      "outputs": [
        {
          "output_type": "execute_result",
          "data": {
            "text/latex": "$\\displaystyle x_{1} x_{2} x_{3}$",
            "text/plain": [
              "x1*x2*x3"
            ]
          },
          "metadata": {
            "tags": []
          },
          "execution_count": 37
        }
      ]
    },
    {
      "cell_type": "code",
      "metadata": {
        "colab": {
          "base_uri": "https://localhost:8080/"
        },
        "id": "mYWZ40aElYRs",
        "outputId": "8967a993-e234-44f9-99f7-a9c80971a1a8"
      },
      "source": [
        "d = np.array([[2/3],[1/3],[2/3]])\n",
        "d"
      ],
      "execution_count": null,
      "outputs": [
        {
          "output_type": "execute_result",
          "data": {
            "text/plain": [
              "array([[0.66666667],\n",
              "       [0.33333333],\n",
              "       [0.66666667]])"
            ]
          },
          "metadata": {
            "tags": []
          },
          "execution_count": 38
        }
      ]
    },
    {
      "cell_type": "code",
      "metadata": {
        "colab": {
          "base_uri": "https://localhost:8080/"
        },
        "id": "Knx7aabOlaiG",
        "outputId": "d00ca23c-59e0-4835-987e-bd0894ffb209"
      },
      "source": [
        "gradf = [fx.diff(x) for x in (x1, x2,x3)] #Gradiente de f(x)\n",
        "derdir = np.asarray(gradf).T@d\n",
        "print('the directional derivate of f(x) in the direction of d is %s'%derdir)"
      ],
      "execution_count": null,
      "outputs": [
        {
          "output_type": "stream",
          "text": [
            "the directional derivate of f(x) in the direction of d is [0.666666666666667*x1*x2 + 0.333333333333333*x1*x3 + 0.666666666666667*x2*x3]\n"
          ],
          "name": "stdout"
        }
      ]
    },
    {
      "cell_type": "code",
      "metadata": {
        "id": "GE1qhEwsFuOK"
      },
      "source": [
        ""
      ],
      "execution_count": null,
      "outputs": []
    },
    {
      "cell_type": "code",
      "metadata": {
        "id": "4gecI17LFLYM"
      },
      "source": [
        ""
      ],
      "execution_count": null,
      "outputs": []
    },
    {
      "cell_type": "code",
      "metadata": {
        "id": "j2cHaW7XFff8"
      },
      "source": [
        ""
      ],
      "execution_count": null,
      "outputs": []
    }
  ]
}